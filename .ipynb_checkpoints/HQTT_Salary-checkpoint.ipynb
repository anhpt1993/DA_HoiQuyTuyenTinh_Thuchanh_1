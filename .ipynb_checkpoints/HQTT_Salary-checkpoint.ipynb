{
 "cells": [
  {
   "cell_type": "markdown",
   "id": "b81f4699-a8ff-40fa-8950-b40c52202175",
   "metadata": {},
   "source": [
    "# 0. Khai báo các thư viện cần thiết"
   ]
  },
  {
   "cell_type": "code",
   "execution_count": 1,
   "id": "d7486a60-4a7b-49c4-a923-b9d71bd4b931",
   "metadata": {},
   "outputs": [],
   "source": [
    "import pandas as pd\n",
    "import matplotlib.pyplot as plt\n",
    "import seaborn as sns\n",
    "from sklearn.model_selection import train_test_split\n",
    "from sklearn.linear_model import LinearRegression"
   ]
  },
  {
   "cell_type": "markdown",
   "id": "35e8b7fd-4c1d-452b-a953-562bafa7c5a3",
   "metadata": {},
   "source": [
    "# 1. Đọc dữ liệu từ file CSV"
   ]
  },
  {
   "cell_type": "code",
   "execution_count": 2,
   "id": "d59b49df-a1ca-4c02-93cb-924522de8edb",
   "metadata": {},
   "outputs": [
    {
     "data": {
      "text/html": [
       "<div>\n",
       "<style scoped>\n",
       "    .dataframe tbody tr th:only-of-type {\n",
       "        vertical-align: middle;\n",
       "    }\n",
       "\n",
       "    .dataframe tbody tr th {\n",
       "        vertical-align: top;\n",
       "    }\n",
       "\n",
       "    .dataframe thead th {\n",
       "        text-align: right;\n",
       "    }\n",
       "</style>\n",
       "<table border=\"1\" class=\"dataframe\">\n",
       "  <thead>\n",
       "    <tr style=\"text-align: right;\">\n",
       "      <th></th>\n",
       "      <th>SoNamKinhNghiem</th>\n",
       "      <th>Luong</th>\n",
       "      <th>NganhNghe</th>\n",
       "    </tr>\n",
       "  </thead>\n",
       "  <tbody>\n",
       "    <tr>\n",
       "      <th>0</th>\n",
       "      <td>7</td>\n",
       "      <td>26.0</td>\n",
       "      <td>KeToan</td>\n",
       "    </tr>\n",
       "    <tr>\n",
       "      <th>1</th>\n",
       "      <td>4</td>\n",
       "      <td>13.8</td>\n",
       "      <td>KeToan</td>\n",
       "    </tr>\n",
       "    <tr>\n",
       "      <th>2</th>\n",
       "      <td>8</td>\n",
       "      <td>21.5</td>\n",
       "      <td>KeToan</td>\n",
       "    </tr>\n",
       "    <tr>\n",
       "      <th>3</th>\n",
       "      <td>9</td>\n",
       "      <td>24.0</td>\n",
       "      <td>KeToan</td>\n",
       "    </tr>\n",
       "    <tr>\n",
       "      <th>4</th>\n",
       "      <td>1</td>\n",
       "      <td>7.8</td>\n",
       "      <td>KeToan</td>\n",
       "    </tr>\n",
       "  </tbody>\n",
       "</table>\n",
       "</div>"
      ],
      "text/plain": [
       "   SoNamKinhNghiem  Luong NganhNghe\n",
       "0                7   26.0    KeToan\n",
       "1                4   13.8    KeToan\n",
       "2                8   21.5    KeToan\n",
       "3                9   24.0    KeToan\n",
       "4                1    7.8    KeToan"
      ]
     },
     "execution_count": 2,
     "metadata": {},
     "output_type": "execute_result"
    }
   ],
   "source": [
    "df = pd.read_csv(\"https://s3.ap-southeast-1.amazonaws.com/learn.codegym.vn/media/public/2022/03/10170155/salary_data.csv\", encoding = \"ISO-8859-1\")\n",
    "df.head()"
   ]
  },
  {
   "cell_type": "code",
   "execution_count": 3,
   "id": "f9dc8fd8-bba4-425c-9baf-7645791d9133",
   "metadata": {},
   "outputs": [
    {
     "name": "stdout",
     "output_type": "stream",
     "text": [
      "<class 'pandas.core.frame.DataFrame'>\n",
      "RangeIndex: 1426 entries, 0 to 1425\n",
      "Data columns (total 3 columns):\n",
      " #   Column           Non-Null Count  Dtype  \n",
      "---  ------           --------------  -----  \n",
      " 0   SoNamKinhNghiem  1426 non-null   int64  \n",
      " 1   Luong            1426 non-null   float64\n",
      " 2   NganhNghe        1426 non-null   object \n",
      "dtypes: float64(1), int64(1), object(1)\n",
      "memory usage: 33.5+ KB\n"
     ]
    }
   ],
   "source": [
    "df.info()"
   ]
  },
  {
   "cell_type": "code",
   "execution_count": 4,
   "id": "600c5417-584f-4394-ad5a-6af023bc5fdb",
   "metadata": {},
   "outputs": [
    {
     "data": {
      "text/html": [
       "<div>\n",
       "<style scoped>\n",
       "    .dataframe tbody tr th:only-of-type {\n",
       "        vertical-align: middle;\n",
       "    }\n",
       "\n",
       "    .dataframe tbody tr th {\n",
       "        vertical-align: top;\n",
       "    }\n",
       "\n",
       "    .dataframe thead th {\n",
       "        text-align: right;\n",
       "    }\n",
       "</style>\n",
       "<table border=\"1\" class=\"dataframe\">\n",
       "  <thead>\n",
       "    <tr style=\"text-align: right;\">\n",
       "      <th></th>\n",
       "      <th>SoNamKinhNghiem</th>\n",
       "      <th>Luong</th>\n",
       "    </tr>\n",
       "  </thead>\n",
       "  <tbody>\n",
       "    <tr>\n",
       "      <th>count</th>\n",
       "      <td>1426.000000</td>\n",
       "      <td>1426.000000</td>\n",
       "    </tr>\n",
       "    <tr>\n",
       "      <th>mean</th>\n",
       "      <td>4.894109</td>\n",
       "      <td>16.316550</td>\n",
       "    </tr>\n",
       "    <tr>\n",
       "      <th>std</th>\n",
       "      <td>3.075541</td>\n",
       "      <td>6.548031</td>\n",
       "    </tr>\n",
       "    <tr>\n",
       "      <th>min</th>\n",
       "      <td>0.000000</td>\n",
       "      <td>5.400000</td>\n",
       "    </tr>\n",
       "    <tr>\n",
       "      <th>25%</th>\n",
       "      <td>2.000000</td>\n",
       "      <td>10.900000</td>\n",
       "    </tr>\n",
       "    <tr>\n",
       "      <th>50%</th>\n",
       "      <td>5.000000</td>\n",
       "      <td>16.200000</td>\n",
       "    </tr>\n",
       "    <tr>\n",
       "      <th>75%</th>\n",
       "      <td>7.000000</td>\n",
       "      <td>21.300000</td>\n",
       "    </tr>\n",
       "    <tr>\n",
       "      <th>max</th>\n",
       "      <td>10.000000</td>\n",
       "      <td>70.000000</td>\n",
       "    </tr>\n",
       "  </tbody>\n",
       "</table>\n",
       "</div>"
      ],
      "text/plain": [
       "       SoNamKinhNghiem        Luong\n",
       "count      1426.000000  1426.000000\n",
       "mean          4.894109    16.316550\n",
       "std           3.075541     6.548031\n",
       "min           0.000000     5.400000\n",
       "25%           2.000000    10.900000\n",
       "50%           5.000000    16.200000\n",
       "75%           7.000000    21.300000\n",
       "max          10.000000    70.000000"
      ]
     },
     "execution_count": 4,
     "metadata": {},
     "output_type": "execute_result"
    }
   ],
   "source": [
    "df.describe()"
   ]
  },
  {
   "cell_type": "markdown",
   "id": "b47cc937-730f-4e74-8a20-155c76b6e437",
   "metadata": {},
   "source": [
    "# 2. Trực quan hoá dữ liệu"
   ]
  },
  {
   "cell_type": "code",
   "execution_count": 5,
   "id": "ece53110-5386-4419-ae24-483b979babe9",
   "metadata": {},
   "outputs": [
    {
     "data": {
      "image/png": "[encoded data removed]",
      "text/plain": [
       "<Figure size 432x288 with 1 Axes>"
      ]
     },
     "metadata": {
      "needs_background": "light"
     },
     "output_type": "display_data"
    }
   ],
   "source": [
    "sns.barplot(x = \"SoNamKinhNghiem\", y = \"Luong\", data = df)\n",
    "plt.title(\"Số năm kinh nghiệm - lương\")\n",
    "plt.xlabel(\"Số năm kinh nghiệm\")\n",
    "plt.ylabel(\"Lương\")\n",
    "plt.show()"
   ]
  },
  {
   "cell_type": "code",
   "execution_count": 6,
   "id": "cda387bc-f149-4adf-96a5-802bc0faa626",
   "metadata": {},
   "outputs": [
    {
     "data": {
      "image/png": "[encoded data removed]",
      "text/plain": [
       "<Figure size 432x288 with 1 Axes>"
      ]
     },
     "metadata": {
      "needs_background": "light"
     },
     "output_type": "display_data"
    }
   ],
   "source": [
    "# Vẽ biểu đồ histogram\n",
    "sns.histplot(df.Luong)\n",
    "plt.show()"
   ]
  },
  {
   "cell_type": "code",
   "execution_count": 7,
   "id": "37d18b17-0ac9-420f-ab2c-030c86874a64",
   "metadata": {},
   "outputs": [],
   "source": [
    "# Tách dữ liệu ra các ngành nghề riêng biệt\n",
    "df_ketoan = df[df.NganhNghe == \"KeToan\"]\n",
    "df_hcns = df[df.NganhNghe == \"HCNS\"]\n",
    "df_sale = df[df.NganhNghe == \"Sale\"]"
   ]
  },
  {
   "cell_type": "code",
   "execution_count": 8,
   "id": "3177d865-ba46-41e1-8a2a-0c3b335ae6e8",
   "metadata": {},
   "outputs": [
    {
     "data": {
      "text/plain": [
       "NganhNghe\n",
       "HCNS      16.556537\n",
       "KeToan    15.645975\n",
       "Sale      16.782216\n",
       "Name: Luong, dtype: float64"
      ]
     },
     "execution_count": 8,
     "metadata": {},
     "output_type": "execute_result"
    }
   ],
   "source": [
    "# Tính lương trung bình theo ngành\n",
    "ltb_nganh = df.groupby([\"NganhNghe\"])[\"Luong\"].mean()\n",
    "ltb_nganh"
   ]
  },
  {
   "cell_type": "code",
   "execution_count": 9,
   "id": "9620917f-3d1c-494f-b2b4-beaf8d652b99",
   "metadata": {},
   "outputs": [
    {
     "data": {
      "image/png": "[encoded data removed]",
      "text/plain": [
       "<Figure size 432x288 with 1 Axes>"
      ]
     },
     "metadata": {
      "needs_background": "light"
     },
     "output_type": "display_data"
    }
   ],
   "source": [
    "# Biểu đồ phân số lương của nhân viên kế toán\n",
    "sns.boxplot(x = \"Luong\", data = df_ketoan)\n",
    "plt.show()"
   ]
  },
  {
   "cell_type": "code",
   "execution_count": 10,
   "id": "28edc5b3-da6a-446f-96b8-725acf510e23",
   "metadata": {},
   "outputs": [
    {
     "data": {
      "image/png": "[encoded data removed]",
      "text/plain": [
       "<Figure size 432x288 with 1 Axes>"
      ]
     },
     "metadata": {
      "needs_background": "light"
     },
     "output_type": "display_data"
    }
   ],
   "source": [
    "# Biểu đồ phân bố lương của nhân viên HCNS\n",
    "sns.boxplot(x = \"Luong\", data = df_hcns)\n",
    "plt.show()"
   ]
  },
  {
   "cell_type": "code",
   "execution_count": 11,
   "id": "6972c822-5442-4bf4-8cb3-b4350bf46775",
   "metadata": {},
   "outputs": [
    {
     "data": {
      "image/png": "[encoded data removed]",
      "text/plain": [
       "<Figure size 432x288 with 1 Axes>"
      ]
     },
     "metadata": {
      "needs_background": "light"
     },
     "output_type": "display_data"
    }
   ],
   "source": [
    "# Biểu đồ phân bố lương của nhân viên Sale\n",
    "sns.boxplot(x = \"Luong\", data = df_sale)\n",
    "plt.show()"
   ]
  },
  {
   "cell_type": "markdown",
   "id": "253390d7-8e5d-4af5-83e3-621e5feaba32",
   "metadata": {},
   "source": [
    "# 3. Xây dựng mô hình dự đoán tiền lương theo số năm kinh nghiệm"
   ]
  },
  {
   "cell_type": "code",
   "execution_count": 12,
   "id": "621984d9-5c1e-4888-9ca1-e01df1aa3fb4",
   "metadata": {},
   "outputs": [
    {
     "name": "stdout",
     "output_type": "stream",
     "text": [
      "Mô hình hồi quy sẽ có dạng: Lương = a + b * Số năm kinh nghiệm \n",
      " với các hệ số a và b lần lượt là: \n",
      "[6.35592115]\n",
      "[[2.03289729]]\n"
     ]
    }
   ],
   "source": [
    "x = df.SoNamKinhNghiem.values.reshape(-1, 1)\n",
    "y = df.Luong.values.reshape(-1, 1)\n",
    "\n",
    "# Chia bộ dữ liệu làm 2 tập train và test theo tỷ lệ 80% train, 20% test\n",
    "x_train, x_test, y_train, y_test = train_test_split(x, y, test_size=0.2, random_state=0)\n",
    "\n",
    "# Khai báo mô hình hồi quy tuyến tính\n",
    "regressor = LinearRegression()\n",
    "\n",
    "# Huấn luyện mô hình\n",
    "regressor.fit(x_train, y_train)\n",
    "\n",
    "print(\"Mô hình hồi quy sẽ có dạng: Lương = a + b * Số năm kinh nghiệm \\n với các hệ số a và b lần lượt là: \")\n",
    "print(regressor.intercept_)\n",
    "print(regressor.coef_)"
   ]
  },
  {
   "cell_type": "markdown",
   "id": "1e8fb416-6a46-4fea-a315-a251a77ecdff",
   "metadata": {},
   "source": [
    "# 4. Đánh giá mô hình"
   ]
  },
  {
   "cell_type": "code",
   "execution_count": 15,
   "id": "c1cbc42b-fdd1-4721-8b90-d9ef811ae38a",
   "metadata": {},
   "outputs": [
    {
     "name": "stdout",
     "output_type": "stream",
     "text": [
      "R2 trên tập huấn luyện của model là: 0.9318331044271062\n",
      "R2 trên tập kiểm tra của model là: 0.8762196686203844\n",
      "\n",
      " Đánh giá năng lực dự báo trung bình trên tập test\n",
      "Sai số dự báo trung bình:  0.5566819767125358\n"
     ]
    }
   ],
   "source": [
    "# Dự đoán trên số năm kinh nghiệm của bộ dữ liệu test\n",
    "y_pred = regressor.predict(x_test)\n",
    "\n",
    "# Khai báo các thư viện metrics và r2_score\n",
    "import sklearn.metrics as metrics\n",
    "from sklearn.metrics import r2_score\n",
    "\n",
    "r2_train = r2_score(y_train, regressor.predict(x_train))\n",
    "print(\"R2 trên tập huấn luyện của model là: \" + str(r2_train))\n",
    "\n",
    "r2_test = r2_score(y_test, y_pred)\n",
    "print(\"R2 trên tập kiểm tra của model là: \" + str(r2_test))\n",
    "\n",
    "df1 = pd.DataFrame({\"Số năm kinh nghiệm\": x_test.flatten(),\n",
    "                   \"Lương thực tế\": y_test.flatten(),\n",
    "                   \"Lương dự báo\": y_pred.flatten()})\n",
    "print(\"\\n Đánh giá năng lực dự báo trung bình trên tập test\")\n",
    "print(\"Sai số dự báo trung bình: \", metrics.mean_absolute_error(y_test, y_pred))"
   ]
  },
  {
   "cell_type": "code",
   "execution_count": 16,
   "id": "920946e7-008b-4b6e-abdb-5f50147031ce",
   "metadata": {},
   "outputs": [
    {
     "data": {
      "image/png": "[encoded data removed]",
      "text/plain": [
       "<Figure size 432x288 with 1 Axes>"
      ]
     },
     "metadata": {
      "needs_background": "light"
     },
     "output_type": "display_data"
    }
   ],
   "source": [
    "plt.scatter(x_test, y_test, color = \"gray\")\n",
    "plt.plot(x_test, y_pred, color = \"red\", linewidth = 2)\n",
    "plt.show()"
   ]
  },
  {
   "cell_type": "markdown",
   "id": "dd07fa52-941d-48a1-8d38-e4721b88a96c",
   "metadata": {},
   "source": [
    "# 5. Lưu trữ mô hình vào máy tính"
   ]
  },
  {
   "cell_type": "code",
   "execution_count": 17,
   "id": "824b9234-786b-44e6-8c3a-781ee4a276ef",
   "metadata": {},
   "outputs": [],
   "source": [
    "# Khai báo thư viện giúp lưu trữ mô hình\n",
    "import pickle\n",
    "filename = \"model.sav\"\n",
    "pickle.dump(regressor, open(filename, \"wb\"))"
   ]
  },
  {
   "cell_type": "markdown",
   "id": "4c1780ff-e9c5-4389-8335-b4c74a8130b8",
   "metadata": {},
   "source": [
    "# 6. Sử dụng mô hình sau khi đã lưu"
   ]
  },
  {
   "cell_type": "code",
   "execution_count": 18,
   "id": "43c192b1-2cbf-448b-9226-bc75165d7b23",
   "metadata": {},
   "outputs": [
    {
     "data": {
      "text/plain": [
       "array([[ 8.38881844],\n",
       "       [10.42171574],\n",
       "       [14.48751032]])"
      ]
     },
     "execution_count": 18,
     "metadata": {},
     "output_type": "execute_result"
    }
   ],
   "source": [
    "# Sử dụng mô hình\n",
    "load_model = pickle.load(open(filename, \"rb\"))\n",
    "x = [[1], [2], [4]]\n",
    "y_pred = load_model.predict(x)\n",
    "y_pred"
   ]
  }
 ],
 "metadata": {
  "kernelspec": {
   "display_name": "Python 3 (ipykernel)",
   "language": "python",
   "name": "python3"
  },
  "language_info": {
   "codemirror_mode": {
    "name": "ipython",
    "version": 3
   },
   "file_extension": ".py",
   "mimetype": "text/x-python",
   "name": "python",
   "nbconvert_exporter": "python",
   "pygments_lexer": "ipython3",
   "version": "3.10.1"
  }
 },
 "nbformat": 4,
 "nbformat_minor": 5
}
